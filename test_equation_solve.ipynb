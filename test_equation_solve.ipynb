{
 "cells": [
  {
   "cell_type": "code",
   "execution_count": 10,
   "metadata": {},
   "outputs": [],
   "source": [
    "import sdepy\n",
    "import numpy as np\n",
    "\n",
    "@sdepy.integrate\n",
    "def my_process(t, x, theta=1., k=1., sigma=1.):\n",
    "    return {'dt': k*(theta - x), 'dw': sigma}\n",
    "\n",
    "x = my_process(x0=1, paths=100*1000, steps=100)\n"
   ]
  },
  {
   "cell_type": "code",
   "execution_count": 14,
   "metadata": {},
   "outputs": [
    {
     "data": {
      "text/plain": [
       "array([0.  , 0.25, 0.5 , 0.75, 1.  ])"
      ]
     },
     "execution_count": 14,
     "metadata": {},
     "output_type": "execute_result"
    }
   ],
   "source": [
    "timeline = np.linspace(0., 1., 5)\n",
    "x(timeline)\n",
    "timeline"
   ]
  },
  {
   "cell_type": "code",
   "execution_count": 31,
   "metadata": {},
   "outputs": [],
   "source": [
    "ALPHAVANTAGE_API = 'S09O7OIWCQWSMDGQ'\n",
    "import requests\n",
    "import json\n",
    "import pandas as pd\n",
    "\n",
    "# replace the \"demo\" apikey below with your own key from https://www.alphavantage.co/support/#api-key\n",
    "url = f'https://www.alphavantage.co/query?function=TIME_SERIES_DAILY&date=2017-11-15&symbol=IBM&interval=5min&apikey={ALPHAVANTAGE_API}'\n",
    "r = requests.get(url)\n",
    "data = r.json()[\"Time Series (Daily)\"]\n",
    "\n",
    "df = pd.DataFrame([data[elem] for elem in data])\n",
    "df.rename(columns={\n",
    "    '1. open': 'Open',\n",
    "    '2. high': 'High',\n",
    "    '3. low': 'Low',\n",
    "    '4. close': 'Close',\n",
    "    '5. volume': 'Volume'\n",
    "}, inplace=True)\n",
    "\n",
    "df['Date'] = data.keys()\n",
    "df.set_index('Date', inplace=True)\n",
    "df.index = pd.to_datetime(df.index)\n",
    "#with open('data.json', 'w') as f:\n",
    "#    json.dump(data, f)"
   ]
  },
  {
   "cell_type": "code",
   "execution_count": 32,
   "metadata": {},
   "outputs": [
    {
     "data": {
      "text/html": [
       "<div>\n",
       "<style scoped>\n",
       "    .dataframe tbody tr th:only-of-type {\n",
       "        vertical-align: middle;\n",
       "    }\n",
       "\n",
       "    .dataframe tbody tr th {\n",
       "        vertical-align: top;\n",
       "    }\n",
       "\n",
       "    .dataframe thead th {\n",
       "        text-align: right;\n",
       "    }\n",
       "</style>\n",
       "<table border=\"1\" class=\"dataframe\">\n",
       "  <thead>\n",
       "    <tr style=\"text-align: right;\">\n",
       "      <th></th>\n",
       "      <th>Open</th>\n",
       "      <th>High</th>\n",
       "      <th>Low</th>\n",
       "      <th>Close</th>\n",
       "      <th>Volume</th>\n",
       "    </tr>\n",
       "    <tr>\n",
       "      <th>Date</th>\n",
       "      <th></th>\n",
       "      <th></th>\n",
       "      <th></th>\n",
       "      <th></th>\n",
       "      <th></th>\n",
       "    </tr>\n",
       "  </thead>\n",
       "  <tbody>\n",
       "    <tr>\n",
       "      <th>2024-09-06</th>\n",
       "      <td>202.3800</td>\n",
       "      <td>204.1000</td>\n",
       "      <td>199.3350</td>\n",
       "      <td>200.7400</td>\n",
       "      <td>3304491</td>\n",
       "    </tr>\n",
       "    <tr>\n",
       "      <th>2024-09-05</th>\n",
       "      <td>204.0800</td>\n",
       "      <td>205.9500</td>\n",
       "      <td>200.9600</td>\n",
       "      <td>202.5900</td>\n",
       "      <td>3229345</td>\n",
       "    </tr>\n",
       "    <tr>\n",
       "      <th>2024-09-04</th>\n",
       "      <td>200.7600</td>\n",
       "      <td>204.3600</td>\n",
       "      <td>200.5000</td>\n",
       "      <td>204.1100</td>\n",
       "      <td>3111332</td>\n",
       "    </tr>\n",
       "    <tr>\n",
       "      <th>2024-09-03</th>\n",
       "      <td>201.9100</td>\n",
       "      <td>204.7200</td>\n",
       "      <td>200.2100</td>\n",
       "      <td>201.2800</td>\n",
       "      <td>3874697</td>\n",
       "    </tr>\n",
       "    <tr>\n",
       "      <th>2024-08-30</th>\n",
       "      <td>199.1100</td>\n",
       "      <td>202.1700</td>\n",
       "      <td>198.7300</td>\n",
       "      <td>202.1300</td>\n",
       "      <td>4750999</td>\n",
       "    </tr>\n",
       "    <tr>\n",
       "      <th>...</th>\n",
       "      <td>...</td>\n",
       "      <td>...</td>\n",
       "      <td>...</td>\n",
       "      <td>...</td>\n",
       "      <td>...</td>\n",
       "    </tr>\n",
       "    <tr>\n",
       "      <th>2024-04-22</th>\n",
       "      <td>182.4500</td>\n",
       "      <td>183.3150</td>\n",
       "      <td>180.4500</td>\n",
       "      <td>181.9000</td>\n",
       "      <td>3076451</td>\n",
       "    </tr>\n",
       "    <tr>\n",
       "      <th>2024-04-19</th>\n",
       "      <td>182.4300</td>\n",
       "      <td>182.8000</td>\n",
       "      <td>180.5700</td>\n",
       "      <td>181.5800</td>\n",
       "      <td>3037990</td>\n",
       "    </tr>\n",
       "    <tr>\n",
       "      <th>2024-04-18</th>\n",
       "      <td>182.3500</td>\n",
       "      <td>183.4600</td>\n",
       "      <td>180.1700</td>\n",
       "      <td>181.4700</td>\n",
       "      <td>2886733</td>\n",
       "    </tr>\n",
       "    <tr>\n",
       "      <th>2024-04-17</th>\n",
       "      <td>184.1600</td>\n",
       "      <td>184.6700</td>\n",
       "      <td>181.7800</td>\n",
       "      <td>183.1000</td>\n",
       "      <td>3003033</td>\n",
       "    </tr>\n",
       "    <tr>\n",
       "      <th>2024-04-16</th>\n",
       "      <td>185.5900</td>\n",
       "      <td>185.7100</td>\n",
       "      <td>182.8600</td>\n",
       "      <td>183.7500</td>\n",
       "      <td>4473654</td>\n",
       "    </tr>\n",
       "  </tbody>\n",
       "</table>\n",
       "<p>100 rows × 5 columns</p>\n",
       "</div>"
      ],
      "text/plain": [
       "                Open      High       Low     Close   Volume\n",
       "Date                                                       \n",
       "2024-09-06  202.3800  204.1000  199.3350  200.7400  3304491\n",
       "2024-09-05  204.0800  205.9500  200.9600  202.5900  3229345\n",
       "2024-09-04  200.7600  204.3600  200.5000  204.1100  3111332\n",
       "2024-09-03  201.9100  204.7200  200.2100  201.2800  3874697\n",
       "2024-08-30  199.1100  202.1700  198.7300  202.1300  4750999\n",
       "...              ...       ...       ...       ...      ...\n",
       "2024-04-22  182.4500  183.3150  180.4500  181.9000  3076451\n",
       "2024-04-19  182.4300  182.8000  180.5700  181.5800  3037990\n",
       "2024-04-18  182.3500  183.4600  180.1700  181.4700  2886733\n",
       "2024-04-17  184.1600  184.6700  181.7800  183.1000  3003033\n",
       "2024-04-16  185.5900  185.7100  182.8600  183.7500  4473654\n",
       "\n",
       "[100 rows x 5 columns]"
      ]
     },
     "execution_count": 32,
     "metadata": {},
     "output_type": "execute_result"
    }
   ],
   "source": [
    "df"
   ]
  },
  {
   "cell_type": "code",
   "execution_count": 33,
   "metadata": {},
   "outputs": [
    {
     "ename": "TypeError",
     "evalue": "Expect data.index as DatetimeIndex",
     "output_type": "error",
     "traceback": [
      "\u001b[0;31m---------------------------------------------------------------------------\u001b[0m",
      "\u001b[0;31mTypeError\u001b[0m                                 Traceback (most recent call last)",
      "Input \u001b[0;32mIn [33]\u001b[0m, in \u001b[0;36m<cell line: 2>\u001b[0;34m()\u001b[0m\n\u001b[1;32m      1\u001b[0m \u001b[38;5;28;01mimport\u001b[39;00m \u001b[38;5;21;01mmplfinance\u001b[39;00m \u001b[38;5;28;01mas\u001b[39;00m \u001b[38;5;21;01mmpf\u001b[39;00m\n\u001b[0;32m----> 2\u001b[0m \u001b[43mmpf\u001b[49m\u001b[38;5;241;43m.\u001b[39;49m\u001b[43mplot\u001b[49m\u001b[43m(\u001b[49m\u001b[43mdf\u001b[49m\u001b[43m,\u001b[49m\u001b[43m \u001b[49m\u001b[38;5;28;43mtype\u001b[39;49m\u001b[38;5;241;43m=\u001b[39;49m\u001b[38;5;124;43m'\u001b[39;49m\u001b[38;5;124;43mcandle\u001b[39;49m\u001b[38;5;124;43m'\u001b[39;49m\u001b[43m,\u001b[49m\u001b[43m \u001b[49m\u001b[43mstyle\u001b[49m\u001b[38;5;241;43m=\u001b[39;49m\u001b[38;5;124;43m'\u001b[39;49m\u001b[38;5;124;43mcharles\u001b[39;49m\u001b[38;5;124;43m'\u001b[39;49m\u001b[43m,\u001b[49m\u001b[43m \u001b[49m\u001b[43mvolume\u001b[49m\u001b[38;5;241;43m=\u001b[39;49m\u001b[38;5;28;43;01mTrue\u001b[39;49;00m\u001b[43m,\u001b[49m\u001b[43m \u001b[49m\u001b[43mtitle\u001b[49m\u001b[38;5;241;43m=\u001b[39;49m\u001b[38;5;124;43m'\u001b[39;49m\u001b[38;5;124;43mSample Stock Data\u001b[39;49m\u001b[38;5;124;43m'\u001b[39;49m\u001b[43m,\u001b[49m\u001b[43m \u001b[49m\u001b[43mylabel\u001b[49m\u001b[38;5;241;43m=\u001b[39;49m\u001b[38;5;124;43m'\u001b[39;49m\u001b[38;5;124;43mPrice\u001b[39;49m\u001b[38;5;124;43m'\u001b[39;49m\u001b[43m)\u001b[49m\n",
      "File \u001b[0;32m~/.local/lib/python3.10/site-packages/mplfinance/plotting.py:417\u001b[0m, in \u001b[0;36mplot\u001b[0;34m(data, **kwargs)\u001b[0m\n\u001b[1;32m    414\u001b[0m \u001b[38;5;66;03m# translate alias types:\u001b[39;00m\n\u001b[1;32m    415\u001b[0m config[\u001b[38;5;124m'\u001b[39m\u001b[38;5;124mtype\u001b[39m\u001b[38;5;124m'\u001b[39m] \u001b[38;5;241m=\u001b[39m _get_valid_plot_types(config[\u001b[38;5;124m'\u001b[39m\u001b[38;5;124mtype\u001b[39m\u001b[38;5;124m'\u001b[39m])\n\u001b[0;32m--> 417\u001b[0m dates,opens,highs,lows,closes,volumes \u001b[38;5;241m=\u001b[39m \u001b[43m_check_and_prepare_data\u001b[49m\u001b[43m(\u001b[49m\u001b[43mdata\u001b[49m\u001b[43m,\u001b[49m\u001b[43m \u001b[49m\u001b[43mconfig\u001b[49m\u001b[43m)\u001b[49m\n\u001b[1;32m    419\u001b[0m config[\u001b[38;5;124m'\u001b[39m\u001b[38;5;124mxlim\u001b[39m\u001b[38;5;124m'\u001b[39m] \u001b[38;5;241m=\u001b[39m _check_and_convert_xlim_configuration(data, config)\n\u001b[1;32m    421\u001b[0m \u001b[38;5;28;01mif\u001b[39;00m config[\u001b[38;5;124m'\u001b[39m\u001b[38;5;124mtype\u001b[39m\u001b[38;5;124m'\u001b[39m] \u001b[38;5;129;01min\u001b[39;00m VALID_PMOVE_TYPES \u001b[38;5;129;01mand\u001b[39;00m config[\u001b[38;5;124m'\u001b[39m\u001b[38;5;124maddplot\u001b[39m\u001b[38;5;124m'\u001b[39m] \u001b[38;5;129;01mis\u001b[39;00m \u001b[38;5;129;01mnot\u001b[39;00m \u001b[38;5;28;01mNone\u001b[39;00m:\n",
      "File \u001b[0;32m~/.local/lib/python3.10/site-packages/mplfinance/_arg_validators.py:32\u001b[0m, in \u001b[0;36m_check_and_prepare_data\u001b[0;34m(data, config)\u001b[0m\n\u001b[1;32m     29\u001b[0m     \u001b[38;5;28;01mraise\u001b[39;00m \u001b[38;5;167;01mTypeError\u001b[39;00m(\u001b[38;5;124m'\u001b[39m\u001b[38;5;124mExpect data as DataFrame\u001b[39m\u001b[38;5;124m'\u001b[39m)\n\u001b[1;32m     31\u001b[0m \u001b[38;5;28;01mif\u001b[39;00m \u001b[38;5;129;01mnot\u001b[39;00m \u001b[38;5;28misinstance\u001b[39m(data\u001b[38;5;241m.\u001b[39mindex,pd\u001b[38;5;241m.\u001b[39mcore\u001b[38;5;241m.\u001b[39mindexes\u001b[38;5;241m.\u001b[39mdatetimes\u001b[38;5;241m.\u001b[39mDatetimeIndex):\n\u001b[0;32m---> 32\u001b[0m     \u001b[38;5;28;01mraise\u001b[39;00m \u001b[38;5;167;01mTypeError\u001b[39;00m(\u001b[38;5;124m'\u001b[39m\u001b[38;5;124mExpect data.index as DatetimeIndex\u001b[39m\u001b[38;5;124m'\u001b[39m)\n\u001b[1;32m     34\u001b[0m \u001b[38;5;66;03m# We will not be fully case-insensitive (since Pandas columns as NOT case-insensitive)\u001b[39;00m\n\u001b[1;32m     35\u001b[0m \u001b[38;5;66;03m# but because so many people have requested it, for the default column names we will\u001b[39;00m\n\u001b[1;32m     36\u001b[0m \u001b[38;5;66;03m# try both Capitalized and lower case:\u001b[39;00m\n\u001b[1;32m     37\u001b[0m columns \u001b[38;5;241m=\u001b[39m config[\u001b[38;5;124m'\u001b[39m\u001b[38;5;124mcolumns\u001b[39m\u001b[38;5;124m'\u001b[39m]\n",
      "\u001b[0;31mTypeError\u001b[0m: Expect data.index as DatetimeIndex"
     ]
    }
   ],
   "source": [
    "import mplfinance as mpf\n",
    "mpf.plot(df, type='candle', style='charles', volume=True, title='Sample Stock Data', ylabel='Price')\n"
   ]
  }
 ],
 "metadata": {
  "kernelspec": {
   "display_name": "Python 3",
   "language": "python",
   "name": "python3"
  },
  "language_info": {
   "codemirror_mode": {
    "name": "ipython",
    "version": 3
   },
   "file_extension": ".py",
   "mimetype": "text/x-python",
   "name": "python",
   "nbconvert_exporter": "python",
   "pygments_lexer": "ipython3",
   "version": "3.10.12"
  }
 },
 "nbformat": 4,
 "nbformat_minor": 2
}
