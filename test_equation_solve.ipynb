{
 "cells": [
  {
   "cell_type": "code",
   "execution_count": 10,
   "metadata": {},
   "outputs": [],
   "source": [
    "import sdepy\n",
    "import numpy as np\n",
    "\n",
    "@sdepy.integrate\n",
    "def my_process(t, x, theta=1., k=1., sigma=1.):\n",
    "    return {'dt': k*(theta - x), 'dw': sigma}\n",
    "\n",
    "x = my_process(x0=1, paths=100*1000, steps=100)\n"
   ]
  },
  {
   "cell_type": "code",
   "execution_count": 14,
   "metadata": {},
   "outputs": [
    {
     "data": {
      "text/plain": [
       "array([0.  , 0.25, 0.5 , 0.75, 1.  ])"
      ]
     },
     "execution_count": 14,
     "metadata": {},
     "output_type": "execute_result"
    }
   ],
   "source": [
    "timeline = np.linspace(0., 1., 5)\n",
    "x(timeline)\n",
    "timeline"
   ]
  },
  {
   "cell_type": "code",
   "execution_count": 40,
   "metadata": {},
   "outputs": [],
   "source": [
    "ALPHAVANTAGE_API = 'S09O7OIWCQWSMDGQ'\n",
    "import requests\n",
    "import json\n",
    "import pandas as pd\n",
    "\n",
    "# replace the \"demo\" apikey below with your own key from https://www.alphavantage.co/support/#api-key\n",
    "url = f'https://www.alphavantage.co/query?function=TIME_SERIES_INTRADAY&symbol=IBM&month=2009-01&interval=1min&apikey={ALPHAVANTAGE_API}'\n",
    "r = requests.get(url)\n",
    "data = r.json()[\"Time Series (Daily)\"]\n",
    "\n",
    "df = pd.DataFrame([data[elem] for elem in data])\n",
    "df.rename(columns={\n",
    "    '1. open': 'Open',\n",
    "    '2. high': 'High',\n",
    "    '3. low': 'Low',\n",
    "    '4. close': 'Close',\n",
    "    '5. volume': 'Volume'\n",
    "}, inplace=True)\n",
    "df['Open'] = df['Open'].astype(float)\n",
    "df['High'] = df['High'].astype(float)\n",
    "df['Low'] = df['Low'].astype(float)\n",
    "df['Close'] = df['Close'].astype(float)\n",
    "df['Volume'] = df['Volume'].astype(int)\n",
    "\n",
    "df['Date'] = data.keys()\n",
    "df.set_index('Date', inplace=True)\n",
    "df.index = pd.to_datetime(df.index)\n",
    "#with open('data.json', 'w') as f:\n",
    "#    json.dump(data, f)"
   ]
  },
  {
   "cell_type": "code",
   "execution_count": 38,
   "metadata": {},
   "outputs": [
    {
     "data": {
      "text/html": [
       "<div>\n",
       "<style scoped>\n",
       "    .dataframe tbody tr th:only-of-type {\n",
       "        vertical-align: middle;\n",
       "    }\n",
       "\n",
       "    .dataframe tbody tr th {\n",
       "        vertical-align: top;\n",
       "    }\n",
       "\n",
       "    .dataframe thead th {\n",
       "        text-align: right;\n",
       "    }\n",
       "</style>\n",
       "<table border=\"1\" class=\"dataframe\">\n",
       "  <thead>\n",
       "    <tr style=\"text-align: right;\">\n",
       "      <th></th>\n",
       "      <th>Open</th>\n",
       "      <th>High</th>\n",
       "      <th>Low</th>\n",
       "      <th>Close</th>\n",
       "      <th>Volume</th>\n",
       "    </tr>\n",
       "    <tr>\n",
       "      <th>Date</th>\n",
       "      <th></th>\n",
       "      <th></th>\n",
       "      <th></th>\n",
       "      <th></th>\n",
       "      <th></th>\n",
       "    </tr>\n",
       "  </thead>\n",
       "  <tbody>\n",
       "    <tr>\n",
       "      <th>2024-09-06</th>\n",
       "      <td>202.38</td>\n",
       "      <td>204.100</td>\n",
       "      <td>199.335</td>\n",
       "      <td>200.74</td>\n",
       "      <td>3304491</td>\n",
       "    </tr>\n",
       "    <tr>\n",
       "      <th>2024-09-05</th>\n",
       "      <td>204.08</td>\n",
       "      <td>205.950</td>\n",
       "      <td>200.960</td>\n",
       "      <td>202.59</td>\n",
       "      <td>3229345</td>\n",
       "    </tr>\n",
       "    <tr>\n",
       "      <th>2024-09-04</th>\n",
       "      <td>200.76</td>\n",
       "      <td>204.360</td>\n",
       "      <td>200.500</td>\n",
       "      <td>204.11</td>\n",
       "      <td>3111332</td>\n",
       "    </tr>\n",
       "    <tr>\n",
       "      <th>2024-09-03</th>\n",
       "      <td>201.91</td>\n",
       "      <td>204.720</td>\n",
       "      <td>200.210</td>\n",
       "      <td>201.28</td>\n",
       "      <td>3874697</td>\n",
       "    </tr>\n",
       "    <tr>\n",
       "      <th>2024-08-30</th>\n",
       "      <td>199.11</td>\n",
       "      <td>202.170</td>\n",
       "      <td>198.730</td>\n",
       "      <td>202.13</td>\n",
       "      <td>4750999</td>\n",
       "    </tr>\n",
       "    <tr>\n",
       "      <th>...</th>\n",
       "      <td>...</td>\n",
       "      <td>...</td>\n",
       "      <td>...</td>\n",
       "      <td>...</td>\n",
       "      <td>...</td>\n",
       "    </tr>\n",
       "    <tr>\n",
       "      <th>2024-04-22</th>\n",
       "      <td>182.45</td>\n",
       "      <td>183.315</td>\n",
       "      <td>180.450</td>\n",
       "      <td>181.90</td>\n",
       "      <td>3076451</td>\n",
       "    </tr>\n",
       "    <tr>\n",
       "      <th>2024-04-19</th>\n",
       "      <td>182.43</td>\n",
       "      <td>182.800</td>\n",
       "      <td>180.570</td>\n",
       "      <td>181.58</td>\n",
       "      <td>3037990</td>\n",
       "    </tr>\n",
       "    <tr>\n",
       "      <th>2024-04-18</th>\n",
       "      <td>182.35</td>\n",
       "      <td>183.460</td>\n",
       "      <td>180.170</td>\n",
       "      <td>181.47</td>\n",
       "      <td>2886733</td>\n",
       "    </tr>\n",
       "    <tr>\n",
       "      <th>2024-04-17</th>\n",
       "      <td>184.16</td>\n",
       "      <td>184.670</td>\n",
       "      <td>181.780</td>\n",
       "      <td>183.10</td>\n",
       "      <td>3003033</td>\n",
       "    </tr>\n",
       "    <tr>\n",
       "      <th>2024-04-16</th>\n",
       "      <td>185.59</td>\n",
       "      <td>185.710</td>\n",
       "      <td>182.860</td>\n",
       "      <td>183.75</td>\n",
       "      <td>4473654</td>\n",
       "    </tr>\n",
       "  </tbody>\n",
       "</table>\n",
       "<p>100 rows × 5 columns</p>\n",
       "</div>"
      ],
      "text/plain": [
       "              Open     High      Low   Close   Volume\n",
       "Date                                                 \n",
       "2024-09-06  202.38  204.100  199.335  200.74  3304491\n",
       "2024-09-05  204.08  205.950  200.960  202.59  3229345\n",
       "2024-09-04  200.76  204.360  200.500  204.11  3111332\n",
       "2024-09-03  201.91  204.720  200.210  201.28  3874697\n",
       "2024-08-30  199.11  202.170  198.730  202.13  4750999\n",
       "...            ...      ...      ...     ...      ...\n",
       "2024-04-22  182.45  183.315  180.450  181.90  3076451\n",
       "2024-04-19  182.43  182.800  180.570  181.58  3037990\n",
       "2024-04-18  182.35  183.460  180.170  181.47  2886733\n",
       "2024-04-17  184.16  184.670  181.780  183.10  3003033\n",
       "2024-04-16  185.59  185.710  182.860  183.75  4473654\n",
       "\n",
       "[100 rows x 5 columns]"
      ]
     },
     "execution_count": 38,
     "metadata": {},
     "output_type": "execute_result"
    }
   ],
   "source": [
    "df"
   ]
  },
  {
   "cell_type": "code",
   "execution_count": 39,
   "metadata": {},
   "outputs": [
    {
     "data": {
      "image/png": "[encoded data removed]",
      "text/plain": [
       "<Figure size 576x414 with 4 Axes>"
      ]
     },
     "metadata": {
      "needs_background": "light"
     },
     "output_type": "display_data"
    }
   ],
   "source": [
    "import mplfinance as mpf\n",
    "mpf.plot(df, type='candle', style='charles', volume=True, title='Sample Stock Data', ylabel='Price')\n"
   ]
  }
 ],
 "metadata": {
  "kernelspec": {
   "display_name": "Python 3",
   "language": "python",
   "name": "python3"
  },
  "language_info": {
   "codemirror_mode": {
    "name": "ipython",
    "version": 3
   },
   "file_extension": ".py",
   "mimetype": "text/x-python",
   "name": "python",
   "nbconvert_exporter": "python",
   "pygments_lexer": "ipython3",
   "version": "3.10.12"
  }
 },
 "nbformat": 4,
 "nbformat_minor": 2
}
